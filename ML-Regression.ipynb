{
 "cells": [
  {
   "cell_type": "markdown",
   "id": "b9ada122",
   "metadata": {},
   "source": [
    "## ML REGRESSION ALGORITHMS"
   ]
  },
  {
   "cell_type": "markdown",
   "id": "bfec1e4d",
   "metadata": {},
   "source": [
    "Loading the scikit-learn version of the diabetes dataset"
   ]
  },
  {
   "cell_type": "code",
   "execution_count": 1,
   "id": "b478c62e",
   "metadata": {},
   "outputs": [
    {
     "name": "stdout",
     "output_type": "stream",
     "text": [
      ".. _diabetes_dataset:\n",
      "\n",
      "Diabetes dataset\n",
      "----------------\n",
      "\n",
      "Ten baseline variables, age, sex, body mass index, average blood\n",
      "pressure, and six blood serum measurements were obtained for each of n =\n",
      "442 diabetes patients, as well as the response of interest, a\n",
      "quantitative measure of disease progression one year after baseline.\n",
      "\n",
      "**Data Set Characteristics:**\n",
      "\n",
      "  :Number of Instances: 442\n",
      "\n",
      "  :Number of Attributes: First 10 columns are numeric predictive values\n",
      "\n",
      "  :Target: Column 11 is a quantitative measure of disease progression one year after baseline\n",
      "\n",
      "  :Attribute Information:\n",
      "      - age     age in years\n",
      "      - sex\n",
      "      - bmi     body mass index\n",
      "      - bp      average blood pressure\n",
      "      - s1      tc, T-Cells (a type of white blood cells)\n",
      "      - s2      ldl, low-density lipoproteins\n",
      "      - s3      hdl, high-density lipoproteins\n",
      "      - s4      tch, thyroid stimulating hormone\n",
      "      - s5      ltg, lamotrigine\n",
      "      - s6      glu, blood sugar level\n",
      "\n",
      "Note: Each of these 10 feature variables have been mean centered and scaled by the standard deviation times `n_samples` (i.e. the sum of squares of each column totals 1).\n",
      "\n",
      "Source URL:\n",
      "https://www4.stat.ncsu.edu/~boos/var.select/diabetes.html\n",
      "\n",
      "For more information see:\n",
      "Bradley Efron, Trevor Hastie, Iain Johnstone and Robert Tibshirani (2004) \"Least Angle Regression,\" Annals of Statistics (with discussion), 407-499.\n",
      "(https://web.stanford.edu/~hastie/Papers/LARS/LeastAngle_2002.pdf)\n"
     ]
    }
   ],
   "source": [
    "from sklearn.datasets import load_diabetes\n",
    "diabetes = load_diabetes()\n",
    "print(diabetes.DESCR)"
   ]
  },
  {
   "cell_type": "markdown",
   "id": "52c5ce38",
   "metadata": {},
   "source": [
    "Splitting the dataset into the training and test sets"
   ]
  },
  {
   "cell_type": "code",
   "execution_count": 2,
   "id": "5effd3bf",
   "metadata": {},
   "outputs": [],
   "source": [
    "from sklearn.model_selection import train_test_split\n",
    "X1_train, X1_test, y1_train, y1_test = train_test_split(diabetes['data'],diabetes['target'], random_state=2005)"
   ]
  },
  {
   "cell_type": "markdown",
   "id": "eb342359",
   "metadata": {},
   "source": [
    "Implementing Lasso model"
   ]
  },
  {
   "cell_type": "markdown",
   "id": "9bbb2365",
   "metadata": {},
   "source": [
    "Calculating the training and test R2 for the Lasso model using the default parameters"
   ]
  },
  {
   "cell_type": "code",
   "execution_count": 3,
   "id": "516a7828",
   "metadata": {},
   "outputs": [
    {
     "name": "stdout",
     "output_type": "stream",
     "text": [
      "Training R2 = 0.3604688303389487\n",
      "Test R2 = 0.3438980595081287\n"
     ]
    }
   ],
   "source": [
    "from sklearn.linear_model import Lasso\n",
    "lasso1 = Lasso().fit(X1_train,y1_train)\n",
    "training_R2 = lasso1.score(X1_train,y1_train)\n",
    "test_R2 = lasso1.score(X1_test,y1_test)\n",
    "print('Training R2 =',training_R2)\n",
    "print('Test R2 =',test_R2)"
   ]
  },
  {
   "cell_type": "markdown",
   "id": "b97bd8d1",
   "metadata": {},
   "source": [
    "Checking the features used by Lasso model above"
   ]
  },
  {
   "cell_type": "code",
   "execution_count": 4,
   "id": "da6267b8",
   "metadata": {},
   "outputs": [
    {
     "name": "stdout",
     "output_type": "stream",
     "text": [
      "Count of features used by lasso model = 3\n",
      "Features used by Lasso model are: [['bmi' 'bp' 's5']]\n"
     ]
    }
   ],
   "source": [
    "import numpy as np\n",
    "\n",
    "#Finding how many features are used\n",
    "feature_count = np.sum(lasso1.coef_ != 0)\n",
    "print('Count of features used by lasso model =',feature_count)\n",
    "\n",
    "#Finding the names of used features\n",
    "feature_indices = np.argwhere(lasso1.coef_ != 0)\n",
    "features_used = np.array(diabetes['feature_names'])[feature_indices]\n",
    "print('Features used by Lasso model are:',(features_used.transpose()))"
   ]
  },
  {
   "cell_type": "markdown",
   "id": "84f72c64",
   "metadata": {},
   "source": [
    "Loading the original version of the diabetes dataset"
   ]
  },
  {
   "cell_type": "code",
   "execution_count": 5,
   "id": "24114cfa",
   "metadata": {},
   "outputs": [],
   "source": [
    "diabetes_org = np.genfromtxt(\"diabetes.data\", delimiter=\"\\t\",skip_header=1)"
   ]
  },
  {
   "cell_type": "markdown",
   "id": "28e5a874",
   "metadata": {},
   "source": [
    "Splitting the original dataset into the training and test sets"
   ]
  },
  {
   "cell_type": "code",
   "execution_count": 6,
   "id": "d293da01",
   "metadata": {},
   "outputs": [],
   "source": [
    "diabetes_data = np.genfromtxt(\"diabetes.data\", delimiter=\"\\t\",usecols=np.arange(diabetes_org.shape[1]-1),skip_header=1)\n",
    "diabetes_target = np.genfromtxt(\"diabetes.data\", delimiter=\"\\t\",usecols=diabetes_org.shape[1]-1, dtype='int',skip_header=1)\n",
    "X2_train, X2_test, y2_train, y2_test = train_test_split(diabetes_data,diabetes_target, random_state=2005)"
   ]
  },
  {
   "cell_type": "markdown",
   "id": "e55f14cc",
   "metadata": {},
   "source": [
    "Implementing Lasso model on original dataset"
   ]
  },
  {
   "cell_type": "markdown",
   "id": "16cd02ce",
   "metadata": {},
   "source": [
    "Calculating the training and test R2 for the Lasso model using the default parameters"
   ]
  },
  {
   "cell_type": "code",
   "execution_count": 7,
   "id": "b4be6206",
   "metadata": {},
   "outputs": [
    {
     "name": "stdout",
     "output_type": "stream",
     "text": [
      "Training R2 = 0.5081103067515702\n",
      "Test R2 = 0.49876675224257616\n"
     ]
    }
   ],
   "source": [
    "lasso2 = Lasso().fit(X2_train,y2_train)\n",
    "training_R2 = lasso2.score(X2_train,y2_train)\n",
    "test_R2 = lasso2.score(X2_test,y2_test)\n",
    "print('Training R2 =',training_R2)\n",
    "print('Test R2 =',test_R2)"
   ]
  },
  {
   "cell_type": "markdown",
   "id": "89c5c8c3",
   "metadata": {},
   "source": [
    "Checking the features used by Lasso model above"
   ]
  },
  {
   "cell_type": "code",
   "execution_count": 8,
   "id": "850b13ed",
   "metadata": {},
   "outputs": [
    {
     "name": "stdout",
     "output_type": "stream",
     "text": [
      "Count of features used by lasso model = 10\n",
      "Features used by Lasso model are: [['age' 'sex' 'bmi' 'bp' 's1' 's2' 's3' 's4' 's5' 's6']]\n"
     ]
    }
   ],
   "source": [
    "#Finding how many features are used\n",
    "feature_count = np.sum(lasso2.coef_ != 0)\n",
    "print('Count of features used by lasso model =',feature_count)\n",
    "\n",
    "#Finding the names of used features\n",
    "feature_indices = np.argwhere(lasso2.coef_ != 0)\n",
    "features_used = np.array(diabetes['feature_names'])[feature_indices]\n",
    "print('Features used by Lasso model are:',(features_used.transpose()))"
   ]
  },
  {
   "cell_type": "markdown",
   "id": "c22d0e63",
   "metadata": {},
   "source": [
    "Preprocessing the training and test sets and avoiding data snooping"
   ]
  },
  {
   "cell_type": "code",
   "execution_count": 9,
   "id": "22b10c4d",
   "metadata": {},
   "outputs": [],
   "source": [
    "from sklearn.preprocessing import StandardScaler\n",
    "scaler = StandardScaler()\n",
    "#Finding the transformation from the training set\n",
    "scaler.fit(X2_train)\n",
    "#To avoid data snooping, same transformation is applied to training and test sets\n",
    "X2_train_scaled = scaler.transform(X2_train)\n",
    "X2_test_scaled = scaler.transform(X2_test)"
   ]
  },
  {
   "cell_type": "markdown",
   "id": "02c04127",
   "metadata": {},
   "source": [
    "We have now preprocessed the data. We can verify this by checking the standard deviations of our features."
   ]
  },
  {
   "cell_type": "code",
   "execution_count": 10,
   "id": "627b9915",
   "metadata": {},
   "outputs": [
    {
     "name": "stdout",
     "output_type": "stream",
     "text": [
      "[1. 1. 1. 1. 1. 1. 1. 1. 1. 1.]\n"
     ]
    }
   ],
   "source": [
    "print(np.std(X2_train_scaled,axis=0))"
   ]
  },
  {
   "cell_type": "markdown",
   "id": "60206d7f",
   "metadata": {},
   "source": [
    "Implementing the Lasso model on scaled dataset"
   ]
  },
  {
   "cell_type": "markdown",
   "id": "f80545ab",
   "metadata": {},
   "source": [
    "Calculating the training and test R2 for the Lasso model using the default parameters"
   ]
  },
  {
   "cell_type": "code",
   "execution_count": 11,
   "id": "c22f1ad7",
   "metadata": {},
   "outputs": [
    {
     "name": "stdout",
     "output_type": "stream",
     "text": [
      "Training R2 = 0.5103864679565968\n",
      "Test R2 = 0.5059896195946609\n"
     ]
    }
   ],
   "source": [
    "lasso3 = Lasso().fit(X2_train_scaled,y2_train)\n",
    "training_R2 = lasso3.score(X2_train_scaled,y2_train)\n",
    "test_R2 = lasso3.score(X2_test_scaled,y2_test)\n",
    "print('Training R2 =',training_R2)\n",
    "print('Test R2 =',test_R2)"
   ]
  },
  {
   "cell_type": "markdown",
   "id": "0fda202c",
   "metadata": {},
   "source": [
    "Checking the features used by Lasso model above"
   ]
  },
  {
   "cell_type": "code",
   "execution_count": 12,
   "id": "02941593",
   "metadata": {},
   "outputs": [
    {
     "name": "stdout",
     "output_type": "stream",
     "text": [
      "Count of features used by lasso model = 9\n",
      "Features used by Lasso model are: [['age' 'sex' 'bmi' 'bp' 's1' 's3' 's4' 's5' 's6']]\n"
     ]
    }
   ],
   "source": [
    "#Finding how many features are used\n",
    "feature_count = np.sum(lasso3.coef_ != 0)\n",
    "print('Count of features used by lasso model =',feature_count)\n",
    "\n",
    "#Finding the names of used features\n",
    "feature_indices = np.argwhere(lasso3.coef_ != 0)\n",
    "features_used = np.array(diabetes['feature_names'])[feature_indices]\n",
    "print('Features used by Lasso model are:',(features_used.transpose()))"
   ]
  },
  {
   "cell_type": "markdown",
   "id": "1f6592f8",
   "metadata": {},
   "source": [
    "Varying the regularization parameter α in the Lasso "
   ]
  },
  {
   "cell_type": "code",
   "execution_count": 13,
   "id": "fe90634f",
   "metadata": {},
   "outputs": [
    {
     "name": "stdout",
     "output_type": "stream",
     "text": [
      "Obtained values are as follows:\n",
      "alpha= 0.0001 : Test R2= 0.5055293533708054 \t Features Used= 10\n",
      "alpha= 0.001 : Test R2= 0.5055195334302462 \t Features Used= 10\n",
      "alpha= 0.01 : Test R2= 0.5054156114170519 \t Features Used= 10\n",
      "alpha= 0.1 : Test R2= 0.5046869922605142 \t Features Used= 10\n",
      "alpha= 1 : Test R2= 0.5059896195946609 \t Features Used= 9\n",
      "alpha= 10 : Test R2= 0.45065885109346004 \t Features Used= 4\n"
     ]
    }
   ],
   "source": [
    "#The above calculated lasso3 is calulated against default alpha value 1.0. Now let us vary the alpha value.\n",
    "\n",
    "#Computing lasso model for following alphas \n",
    "alphas = [0.0001,0.001,0.01,0.1,1,10]\n",
    "\n",
    "#Let us find test R2 and features used for each of the model\n",
    "test_R2 = []\n",
    "features_used = []\n",
    "for a in alphas:\n",
    "    lasso = Lasso(alpha=a,max_iter=100000).fit(X2_train_scaled,y2_train)\n",
    "    test_R2.append(lasso.score(X2_test_scaled,y2_test))\n",
    "    features_used.append(np.sum(lasso.coef_ != 0))\n",
    "\n",
    "print('Obtained values are as follows:')\n",
    "for i in range(len(alphas)):\n",
    "    print(\"alpha=\",alphas[i],\": Test R2=\",test_R2[i],\"\\t Features Used=\",features_used[i])"
   ]
  },
  {
   "cell_type": "markdown",
   "id": "0b372c97",
   "metadata": {},
   "source": [
    "Plotting the test R2 vs the number of features used (i.e., those with non-zero coefficients)."
   ]
  },
  {
   "cell_type": "code",
   "execution_count": 14,
   "id": "71ba6314",
   "metadata": {},
   "outputs": [
    {
     "data": {
      "text/plain": [
       "<matplotlib.legend.Legend at 0x23d4dbeca90>"
      ]
     },
     "execution_count": 14,
     "metadata": {},
     "output_type": "execute_result"
    },
    {
     "data": {
      "image/png": "[encoded data removed]",
      "text/plain": [
       "<Figure size 432x288 with 1 Axes>"
      ]
     },
     "metadata": {
      "needs_background": "light"
     },
     "output_type": "display_data"
    }
   ],
   "source": [
    "%matplotlib inline\n",
    "import matplotlib.pyplot as plt\n",
    "symbols = ['^','*','s','o','p','v']\n",
    "for i,a in enumerate(alphas):\n",
    "    plt.plot(test_R2[i], features_used[i],symbols[i], label=\"Lasso alpha=\"+str(a))\n",
    "plt.xlim(0.45,0.51)\n",
    "plt.xlabel(\"Test R2\")\n",
    "plt.ylabel(\"Features used\")\n",
    "plt.legend()"
   ]
  },
  {
   "cell_type": "markdown",
   "id": "ef581cc5",
   "metadata": {},
   "source": [
    "9.3) Which point on the curve do you prefer? </br>\n",
    "\n",
    "###### Alpha = 0.0001,0.001,0.01,0.1\n",
    "For such small values of alpha, we are using a model with all the 10 features. This means that our result is close to linear regression and we are not performing any model selection. This means we might be overfitting data so the model does not work very great on test set due to lack of generalization.\n",
    "\n",
    "###### Alpha = 1\n",
    "In this case, we are using 9 out of 10 features and achieved test R2 is also the highest. So looks like model selection is optimal where removing the one irrelavent feature reduces the model complexity and make it more generalized. This, in turn, helps to achieve good test R2.\n",
    "\n",
    "###### Alpha = 10\n",
    "Here, we are using a model with 4 out of 10 features which means there is a higher degree of model selection. But the achieved test R2 is relatively lower in this case. This is because the model complexity is lower and hence we might be undefitting the data. This underfitted model will lack generalization and will lead to poor performance on test set which is why we see lower test R2 in this case. \n",
    "\n",
    "Our regularization parameter, alpha, should be a tradeoff of: </br>\n",
    "<ol><li>Fitting the data well</li>\n",
    "    <li>Moving the parameter estimates to 0</li></ol>\n",
    "\n",
    "Hence, <strong>alpha = 1</strong> seems like the most optimal choice achieving highest test R2 at a slightly less complex model using 9 out of 10 features. "
   ]
  },
  {
   "cell_type": "markdown",
   "id": "f7783781",
   "metadata": {},
   "source": [
    "Parameter Selection using Cross Validation"
   ]
  },
  {
   "cell_type": "markdown",
   "id": "ca46ca73",
   "metadata": {},
   "source": [
    "Choosing the regularization parameter for the Lasso using cross-validation on the training set"
   ]
  },
  {
   "cell_type": "code",
   "execution_count": 15,
   "id": "3e11f99e",
   "metadata": {},
   "outputs": [
    {
     "name": "stdout",
     "output_type": "stream",
     "text": [
      "Best CV score: 0.47147475080220075\n",
      "Best regularization parameter alpha: 1\n"
     ]
    }
   ],
   "source": [
    "from sklearn.model_selection import cross_val_score\n",
    "#Again using the below alphas as potential regularization parameters for Lasso\n",
    "alphas = [0.0001,0.001,0.01,0.1,1,10]\n",
    "best_score = 0\n",
    "for a in alphas:\n",
    "    lasso = Lasso(alpha=a,max_iter=100000)\n",
    "    lasso.fit(X2_train_scaled,y2_train)\n",
    "    # perform cross-validation\n",
    "    scores = cross_val_score(lasso,X2_train_scaled, y2_train, cv=5)\n",
    "    # compute mean cross-validation accuracy\n",
    "    score = np.mean(scores)\n",
    "    # if we got a better score, store the score and parameters\n",
    "    if score > best_score:\n",
    "        best_score = score\n",
    "        best_alpha = a\n",
    "print(\"Best CV score:\", best_score)\n",
    "print(\"Best regularization parameter alpha:\", best_alpha)"
   ]
  },
  {
   "cell_type": "markdown",
   "id": "1077b40c",
   "metadata": {},
   "source": [
    "Training the Lasso on the whole training set using the chosen values of the parameters"
   ]
  },
  {
   "cell_type": "code",
   "execution_count": 16,
   "id": "d9274f93",
   "metadata": {},
   "outputs": [
    {
     "data": {
      "text/plain": [
       "Lasso(alpha=1)"
      ]
     },
     "execution_count": 16,
     "metadata": {},
     "output_type": "execute_result"
    }
   ],
   "source": [
    "# rebuild a model on the full training set\n",
    "lasso = Lasso(alpha=best_alpha)\n",
    "lasso.fit(X2_train_scaled,y2_train)"
   ]
  },
  {
   "cell_type": "markdown",
   "id": "43a73b7b",
   "metadata": {},
   "source": [
    "Reporting the resulting training and test R2 and the number of features used."
   ]
  },
  {
   "cell_type": "code",
   "execution_count": 17,
   "id": "a84a1061",
   "metadata": {},
   "outputs": [
    {
     "name": "stdout",
     "output_type": "stream",
     "text": [
      "Training set score with best parameters: 0.5103864679565968\n",
      "Test set score with best parameters: 0.5059896195946609\n",
      "Number of features used: 9\n"
     ]
    }
   ],
   "source": [
    "#Reporting the traning R2\n",
    "train_score = lasso.score(X2_train_scaled,y2_train)\n",
    "print(\"Training set score with best parameters:\", train_score)\n",
    "\n",
    "#Reporting the test R2\n",
    "test_score = lasso.score(X2_test_scaled,y2_test)\n",
    "print(\"Test set score with best parameters:\", test_score)\n",
    "\n",
    "#Reporting the number of features used\n",
    "features_used = np.sum(lasso.coef_ != 0)\n",
    "print('Number of features used:',features_used)"
   ]
  },
  {
   "cell_type": "markdown",
   "id": "9a36b804",
   "metadata": {},
   "source": [
    "### Discussion\n",
    "\n",
    "The above result in (10) coincides with our preference in (9).\n",
    "Alpha = 1 gives the best tradeoff between fitting the data well and performing the model selection."
   ]
  },
  {
   "cell_type": "markdown",
   "id": "5341f39e",
   "metadata": {},
   "source": [
    "## Inductive Conformal Predictor Implementation"
   ]
  },
  {
   "cell_type": "markdown",
   "id": "cbfb307f",
   "metadata": {},
   "source": [
    "Implementing an inductive conformal predictor"
   ]
  },
  {
   "cell_type": "markdown",
   "id": "39a186d0",
   "metadata": {},
   "source": [
    "a) Split the training set that you obtained in item 5 into two parts: the calibration set of size 99 and the rest of the training set (the training set proper)."
   ]
  },
  {
   "cell_type": "code",
   "execution_count": 18,
   "id": "5c71226c",
   "metadata": {},
   "outputs": [],
   "source": [
    "X_train_pr, X_calib, y_train_pr, y_calib = train_test_split(X2_train, y2_train, test_size=99, random_state=2005)"
   ]
  },
  {
   "cell_type": "markdown",
   "id": "01f332b8",
   "metadata": {},
   "source": [
    "b) Preprocess the training set proper, calibration set, and test set in the same way using StandardScaler. Namely, fit the scaler to the training set proper and then use it to transform all three."
   ]
  },
  {
   "cell_type": "code",
   "execution_count": 19,
   "id": "24c39d38",
   "metadata": {},
   "outputs": [],
   "source": [
    "scaler = StandardScaler()\n",
    "#fitting the scaler to the training set proper \n",
    "scaler.fit(X_train_pr)\n",
    "#transform training set proper\n",
    "X_train_pr_scaled = scaler.transform(X_train_pr)\n",
    "#transform calibration set\n",
    "X_calib_scaled = scaler.transform(X_calib)\n",
    "# transform test data\n",
    "X2_test_scaled = scaler.transform(X2_test)"
   ]
  },
  {
   "cell_type": "markdown",
   "id": "daf0d59c",
   "metadata": {},
   "source": [
    "c) Using the nonconformity measure α = |y − yhat|, where y is the true label and yhat is its prediction given the training set proper, for each test sample compute the prediction interval for it. Do this for significance levels 5% and 20%. For each of these significance levels compute:<ul>\n",
    "<li> the length of the prediction intervals for the test samples </li>\n",
    "<li> and the test error rate of your inductive conformal predictor. </li> </ul>"
   ]
  },
  {
   "cell_type": "markdown",
   "id": "23393d8e",
   "metadata": {},
   "source": [
    "###### Fit the Lasso with parameters chosen by cross-validation to the training set proper"
   ]
  },
  {
   "cell_type": "code",
   "execution_count": 20,
   "id": "ed547a2b",
   "metadata": {},
   "outputs": [
    {
     "name": "stdout",
     "output_type": "stream",
     "text": [
      "Best CV score: 0.45595297318004324\n",
      "Best regularization parameter alpha: 1\n"
     ]
    }
   ],
   "source": [
    "#Computing the cross validation for below value of regularization parameter\n",
    "alphas = [0.0001,0.001,0.01,0.1,1,10,100]\n",
    "best_score = 0\n",
    "for a in alphas:\n",
    "    lasso = Lasso(alpha=a,max_iter=100000)\n",
    "    lasso.fit(X_train_pr_scaled,y_train_pr)\n",
    "    # perform cross-validation\n",
    "    scores = cross_val_score(lasso,X_train_pr_scaled, y_train_pr, cv=5)\n",
    "    # compute mean cross-validation accuracy\n",
    "    score = np.mean(scores)\n",
    "    # if we got a better score, store the score and parameters\n",
    "    if score > best_score:\n",
    "        best_score = score\n",
    "        best_alpha = a\n",
    "print(\"Best CV score:\", best_score)\n",
    "print(\"Best regularization parameter alpha:\", best_alpha)"
   ]
  },
  {
   "cell_type": "code",
   "execution_count": 21,
   "id": "6f67c232",
   "metadata": {},
   "outputs": [
    {
     "data": {
      "text/plain": [
       "Lasso(alpha=1)"
      ]
     },
     "execution_count": 21,
     "metadata": {},
     "output_type": "execute_result"
    }
   ],
   "source": [
    "# rebuild the model with best regularization parameter\n",
    "lasso = Lasso(alpha=best_alpha)\n",
    "lasso.fit(X_train_pr_scaled,y_train_pr)"
   ]
  },
  {
   "cell_type": "markdown",
   "id": "077c3faa",
   "metadata": {},
   "source": [
    "######  Compute the $\\alpha$i for the calibration set by the formula $\\alpha$i = |yi − yhati| (yi being the true label and yhat being the Lasso prediction)."
   ]
  },
  {
   "cell_type": "code",
   "execution_count": 22,
   "id": "1699d87d",
   "metadata": {},
   "outputs": [],
   "source": [
    "#Finding the lasso predictions\n",
    "yhat = lasso.predict(X_calib_scaled)\n",
    "#Finding the non conformity scores\n",
    "alpha_scores = abs(y_calib - yhat)"
   ]
  },
  {
   "cell_type": "markdown",
   "id": "ee8eb2d1",
   "metadata": {},
   "source": [
    "###### Compute k and c\n",
    "Defining methods below to compute k"
   ]
  },
  {
   "cell_type": "code",
   "execution_count": 23,
   "id": "da36d69e",
   "metadata": {},
   "outputs": [],
   "source": [
    "import math\n",
    "def getk(epsilon,m):\n",
    "    return math.ceil((1-epsilon)*(m+1))\n",
    "\n",
    "def getc(k, scores):\n",
    "    return scores[k-1]"
   ]
  },
  {
   "cell_type": "markdown",
   "id": "f2ecbd1e",
   "metadata": {},
   "source": [
    "###### Finally, compute the prediction set for each test sample as [yhat−c, yhat+c], yhat being the Lasso prediction for this test sample\n",
    "Defining a method below that returns the prediction sets for all test samples"
   ]
  },
  {
   "cell_type": "code",
   "execution_count": 24,
   "id": "4e1afcef",
   "metadata": {},
   "outputs": [],
   "source": [
    "def getPredSets(c, X_test):\n",
    "    \"\"\"\n",
    "    Function to return prediction interval lengths\n",
    "    Input: c and test samples\n",
    "    Output: Prediction sets upper and lower limits for all test samples\n",
    "    \"\"\"\n",
    "    yhat = lasso.predict(X_test)\n",
    "    pred_set_min = yhat - c\n",
    "    pred_set_max = yhat + c\n",
    "    return pred_set_max, pred_set_min\n",
    "#Interpretation: For test sample i, the prediction set interval will be [pred_set_min[i],pred_set_max[i]]"
   ]
  },
  {
   "cell_type": "markdown",
   "id": "5db6355d",
   "metadata": {},
   "source": [
    " #### Significance level 5%"
   ]
  },
  {
   "cell_type": "markdown",
   "id": "5f7eeeaa",
   "metadata": {},
   "source": [
    "Computing k and c "
   ]
  },
  {
   "cell_type": "code",
   "execution_count": 25,
   "id": "8c54cd4f",
   "metadata": {},
   "outputs": [
    {
     "name": "stdout",
     "output_type": "stream",
     "text": [
      "Value of k for significance level 5%: 95\n",
      "Value of c for significance level 5%: 107.92978677890349\n"
     ]
    }
   ],
   "source": [
    "#size of calibration set\n",
    "m = X_calib_scaled.shape[0]\n",
    "#significance level 5%\n",
    "epsilon = 5/100\n",
    "#computing k\n",
    "k5 = getk(epsilon, m)\n",
    "#Sorting the alpha scores\n",
    "alpha_scores = np.sort(alpha_scores)\n",
    "#computing c\n",
    "c5 = getc(k5, alpha_scores)\n",
    "print('Value of k for significance level 5%:',k5)\n",
    "print('Value of c for significance level 5%:',c5)"
   ]
  },
  {
   "cell_type": "markdown",
   "id": "a70af084",
   "metadata": {},
   "source": [
    "Computing the length of the prediction intervals for the test samples"
   ]
  },
  {
   "cell_type": "code",
   "execution_count": 26,
   "id": "2c7f8427",
   "metadata": {},
   "outputs": [
    {
     "name": "stdout",
     "output_type": "stream",
     "text": [
      "Length of prediction intervals for all test samples at significance level 5%: 216.85957355780695\n"
     ]
    }
   ],
   "source": [
    "pred_set_max, pred_set_min = getPredSets(c5, X2_test_scaled)\n",
    "pred_interval_lengths = pred_set_max - pred_set_min + 1\n",
    "#The length of the prediction intervals for all the test samples will be same as it depends only on c:\n",
    "#The length of interval [yhat−c, yhat+c] will be (yhat+c) - (yhat−c) + 1 = 2c+1.\n",
    "#So we can take any value from the above pred_interval_lengths.\n",
    "print('Length of prediction intervals for all test samples at significance level 5%:',pred_interval_lengths[0])"
   ]
  },
  {
   "cell_type": "markdown",
   "id": "ceb02084",
   "metadata": {},
   "source": [
    "Computing the test error rate of inductive conformal predictor"
   ]
  },
  {
   "cell_type": "code",
   "execution_count": 27,
   "id": "cdd1e3d1",
   "metadata": {},
   "outputs": [
    {
     "name": "stdout",
     "output_type": "stream",
     "text": [
      "Test error rate at significance level 5%: 0.04504504504504504\n"
     ]
    }
   ],
   "source": [
    "errors = 0\n",
    "test_set_size = len(y2_test)\n",
    "for i in range(test_set_size):\n",
    "    if pred_set_min[i] > y2_test[i] or y2_test[i] > pred_set_max[i]:\n",
    "        errors = errors + 1\n",
    "error_rate = errors/test_set_size\n",
    "print('Test error rate at significance level 5%:',error_rate)"
   ]
  },
  {
   "cell_type": "markdown",
   "id": "ac4e1987",
   "metadata": {},
   "source": [
    " #### Significance level 20%"
   ]
  },
  {
   "cell_type": "markdown",
   "id": "f3538b58",
   "metadata": {},
   "source": [
    "Computing k and c "
   ]
  },
  {
   "cell_type": "code",
   "execution_count": 28,
   "id": "d14df9eb",
   "metadata": {},
   "outputs": [
    {
     "name": "stdout",
     "output_type": "stream",
     "text": [
      "Value of k for significance level 5%: 80\n",
      "Value of c for significance level 5%: 77.67186206665784\n"
     ]
    }
   ],
   "source": [
    "#size of calibration set\n",
    "m = X_calib_scaled.shape[0]\n",
    "#significance level 5%\n",
    "epsilon = 20/100\n",
    "#computing k\n",
    "k20 = getk(epsilon, m)\n",
    "#Sorting the alpha scores\n",
    "alpha_scores = np.sort(alpha_scores)\n",
    "#computing c\n",
    "c20 = getc(k20, alpha_scores)\n",
    "print('Value of k for significance level 5%:',k20)\n",
    "print('Value of c for significance level 5%:',c20)"
   ]
  },
  {
   "cell_type": "markdown",
   "id": "bb2db7ce",
   "metadata": {},
   "source": [
    "Computing the length of the prediction intervals for the test samples"
   ]
  },
  {
   "cell_type": "code",
   "execution_count": 29,
   "id": "bc2d4ae7",
   "metadata": {},
   "outputs": [
    {
     "name": "stdout",
     "output_type": "stream",
     "text": [
      "Length of prediction intervals for all test samples at significance level 20%: 156.34372413331567\n"
     ]
    }
   ],
   "source": [
    "pred_set_max, pred_set_min = getPredSets(c20, X2_test_scaled)\n",
    "pred_interval_lengths = pred_set_max - pred_set_min + 1\n",
    "#The length of the prediction intervals for all the test samples will be same as it depends only on c:\n",
    "#The length of interval [yhat−c, yhat+c] will be (yhat+c) - (yhat−c) + 1 = 2c+1.\n",
    "#So we can take any value from the above pred_interval_lengths.\n",
    "print('Length of prediction intervals for all test samples at significance level 20%:',pred_interval_lengths[0])"
   ]
  },
  {
   "cell_type": "markdown",
   "id": "2fc3800d",
   "metadata": {},
   "source": [
    "Computing the test error rate of inductive conformal predictor"
   ]
  },
  {
   "cell_type": "code",
   "execution_count": 30,
   "id": "30b167bd",
   "metadata": {},
   "outputs": [
    {
     "name": "stdout",
     "output_type": "stream",
     "text": [
      "Test error rate at significance level 20%: 0.12612612612612611\n"
     ]
    }
   ],
   "source": [
    "errors = 0\n",
    "test_set_size = len(y2_test)\n",
    "for i in range(test_set_size):\n",
    "    if pred_set_min[i] > y2_test[i] or y2_test[i] > pred_set_max[i]:\n",
    "        errors = errors + 1\n",
    "error_rate = errors/test_set_size\n",
    "print('Test error rate at significance level 20%:',error_rate)"
   ]
  },
  {
   "cell_type": "markdown",
   "id": "6b4d9419",
   "metadata": {},
   "source": [
    "#### <em>End of notebook</em>"
   ]
  }
 ],
 "metadata": {
  "kernelspec": {
   "display_name": "Python 3",
   "language": "python",
   "name": "python3"
  },
  "language_info": {
   "codemirror_mode": {
    "name": "ipython",
    "version": 3
   },
   "file_extension": ".py",
   "mimetype": "text/x-python",
   "name": "python",
   "nbconvert_exporter": "python",
   "pygments_lexer": "ipython3",
   "version": "3.8.8"
  }
 },
 "nbformat": 4,
 "nbformat_minor": 5
}
